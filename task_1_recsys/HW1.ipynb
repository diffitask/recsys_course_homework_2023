{
 "cells":[
  {
   "cell_type":"code",
   "source":[
    "import pandas as pd\n",
    "import matplotlib.pyplot as plt"
   ],
   "execution_count":1,
   "outputs":[
    
   ],
   "metadata":{
    "datalore":{
     "node_id":"01mA76pABsFrvA6hH0naX7",
     "type":"CODE",
     "hide_input_from_viewers":false,
     "hide_output_from_viewers":false,
     "report_properties":{
      "rowId":"jo05gh4zR2TECitCjLb9e8"
     }
    }
   }
  },
  {
   "cell_type":"markdown",
   "source":[
    "### 1. Чтение данных\n",
    "Читаем данные, удаляем ненужные колонки"
   ],
   "attachments":{
    
   },
   "metadata":{
    "datalore":{
     "node_id":"ZQmuv3GjOwVXoP38XXx7Rk",
     "type":"MD",
     "hide_input_from_viewers":true,
     "hide_output_from_viewers":true
    }
   }
  },
  {
   "cell_type":"code",
   "source":[
    "data = pd.read_csv('.\/data-001.csv',\n",
    "                   parse_dates=['date_time'])\n",
    "data = data.drop(\n",
    "    columns=['oaid_hash', 'banner_id0', 'banner_id1', 'rate0', 'rate1', 'g0', 'g1', 'coeff_sum0', 'coeff_sum1'])\n",
    "# TODO: data.sort_values(by='date_time')\n",
    "data.head()"
   ],
   "execution_count":2,
   "outputs":[
    {
     "data":{
      "text\/html":[
       "<div>\n",
       "<style scoped>\n",
       "    .dataframe tbody tr th:only-of-type {\n",
       "        vertical-align: middle;\n",
       "    }\n",
       "\n",
       "    .dataframe tbody tr th {\n",
       "        vertical-align: top;\n",
       "    }\n",
       "\n",
       "    .dataframe thead th {\n",
       "        text-align: right;\n",
       "    }\n",
       "<\/style>\n",
       "<table border=\"1\" class=\"dataframe\">\n",
       "  <thead>\n",
       "    <tr style=\"text-align: right;\">\n",
       "      <th><\/th>\n",
       "      <th>date_time<\/th>\n",
       "      <th>zone_id<\/th>\n",
       "      <th>banner_id<\/th>\n",
       "      <th>campaign_clicks<\/th>\n",
       "      <th>os_id<\/th>\n",
       "      <th>country_id<\/th>\n",
       "      <th>impressions<\/th>\n",
       "      <th>clicks<\/th>\n",
       "    <\/tr>\n",
       "  <\/thead>\n",
       "  <tbody>\n",
       "    <tr>\n",
       "      <th>0<\/th>\n",
       "      <td>2021-09-27 00:01:30<\/td>\n",
       "      <td>0<\/td>\n",
       "      <td>0<\/td>\n",
       "      <td>0<\/td>\n",
       "      <td>0<\/td>\n",
       "      <td>0<\/td>\n",
       "      <td>1<\/td>\n",
       "      <td>1<\/td>\n",
       "    <\/tr>\n",
       "    <tr>\n",
       "      <th>1<\/th>\n",
       "      <td>2021-09-26 22:54:49<\/td>\n",
       "      <td>1<\/td>\n",
       "      <td>1<\/td>\n",
       "      <td>0<\/td>\n",
       "      <td>0<\/td>\n",
       "      <td>1<\/td>\n",
       "      <td>1<\/td>\n",
       "      <td>1<\/td>\n",
       "    <\/tr>\n",
       "    <tr>\n",
       "      <th>2<\/th>\n",
       "      <td>2021-09-26 23:57:20<\/td>\n",
       "      <td>2<\/td>\n",
       "      <td>2<\/td>\n",
       "      <td>3<\/td>\n",
       "      <td>0<\/td>\n",
       "      <td>0<\/td>\n",
       "      <td>1<\/td>\n",
       "      <td>1<\/td>\n",
       "    <\/tr>\n",
       "    <tr>\n",
       "      <th>3<\/th>\n",
       "      <td>2021-09-27 00:04:30<\/td>\n",
       "      <td>3<\/td>\n",
       "      <td>3<\/td>\n",
       "      <td>0<\/td>\n",
       "      <td>1<\/td>\n",
       "      <td>1<\/td>\n",
       "      <td>1<\/td>\n",
       "      <td>1<\/td>\n",
       "    <\/tr>\n",
       "    <tr>\n",
       "      <th>4<\/th>\n",
       "      <td>2021-09-27 00:06:21<\/td>\n",
       "      <td>4<\/td>\n",
       "      <td>4<\/td>\n",
       "      <td>0<\/td>\n",
       "      <td>1<\/td>\n",
       "      <td>0<\/td>\n",
       "      <td>1<\/td>\n",
       "      <td>1<\/td>\n",
       "    <\/tr>\n",
       "  <\/tbody>\n",
       "<\/table>\n",
       "<\/div>"
      ]
     },
     "metadata":{
      
     },
     "output_type":"display_data"
    }
   ],
   "metadata":{
    "datalore":{
     "node_id":"hAW3xWIUWRkR3iUcACM6Ou",
     "type":"CODE",
     "hide_input_from_viewers":false,
     "hide_output_from_viewers":false,
     "report_properties":{
      "rowId":"aFHQUuvYnMWETftpcBJu3J"
     }
    }
   }
  },
  {
   "cell_type":"markdown",
   "source":[
    "### 2. Анализ данных\n",
    "Проанализируем данные: статистики по каждой фиче, количество уникальных значений, отсутствующих значений, гистограммы распределений значений каждой из фич."
   ],
   "attachments":{
    
   },
   "metadata":{
    "datalore":{
     "node_id":"EpGz4ZzsYhAR76DrJpToBN",
     "type":"MD",
     "hide_input_from_viewers":true,
     "hide_output_from_viewers":true
    }
   }
  },
  {
   "cell_type":"code",
   "source":[
    "import numpy as np"
   ],
   "execution_count":3,
   "outputs":[
    
   ],
   "metadata":{
    "datalore":{
     "node_id":"fwTsCl0KsuDoKlHQm5hLYc",
     "type":"CODE",
     "hide_input_from_viewers":true,
     "hide_output_from_viewers":true
    }
   }
  },
  {
   "cell_type":"code",
   "source":[
    "def analysis(data: pd.DataFrame):\n",
    "    # множество статистических значений для датасета\n",
    "    display(data.describe())\n",
    "\n",
    "    # количество уникальных значений для каждой фичи\n",
    "    print('Unique values count for each feature:')\n",
    "    print(data.nunique(axis=0, dropna=True))\n",
    "    print('-' * 60)\n",
    "\n",
    "    # распределение значений каждой из фич\n",
    "    for col in data.drop(columns=['date_time']).columns:\n",
    "        data.hist(col, figsize=(15, 5), color='green')\n",
    "        plt.show()\n",
    "\n",
    "    # количество NaN значений в каждом столбце\n",
    "    print('NaN values count for each feature:')\n",
    "    print(data.isna().sum())\n",
    "    print('-' * 60)\n",
    "\n",
    "    # распределение количества сэмплов по дате и времени -- позволит увидеть, за какие моменты у нас в принципе есть данные, и в каком объеме\n",
    "    print(f\"Start day: {data['date_time'].min()}\")\n",
    "    print(f\"End day: {data['date_time'].max()}\")\n",
    "    print(\"Date time samples count:\")\n",
    "    display(data.groupby('date_time').size())\n",
    "    # TODO\n",
    "    "
   ],
   "execution_count":4,
   "outputs":[
    
   ],
   "metadata":{
    "datalore":{
     "node_id":"H0wieKsoppm3cGOVy3uQGt",
     "type":"CODE",
     "hide_input_from_viewers":false,
     "hide_output_from_viewers":false,
     "report_properties":{
      "rowId":"7rpSGy9Uer3p8OXOFaWBhm"
     }
    }
   }
  },
  {
   "cell_type":"code",
   "source":[
    "analysis(data)"
   ],
   "execution_count":5,
   "outputs":[
    {
     "name":"stdout",
     "text":[
      "Unique values count for each feature:\n",
      "date_time          604712\n",
      "zone_id              3444\n",
      "banner_id            1633\n",
      "campaign_clicks       822\n",
      "os_id                  11\n",
      "country_id             17\n",
      "impressions             1\n",
      "clicks                  2\n",
      "dtype: int64\n",
      "------------------------------------------------------------\n",
      "NaN values count for each feature:\n",
      "date_time          0\n",
      "zone_id            0\n",
      "banner_id          0\n",
      "campaign_clicks    0\n",
      "os_id              0\n",
      "country_id         0\n",
      "impressions        0\n",
      "clicks             0\n",
      "dtype: int64\n",
      "------------------------------------------------------------\n",
      "Start day: 2021-09-01 00:02:49\n",
      "End day: 2021-10-02 23:59:59\n",
      "Date time samples count:\n"
     ],
     "output_type":"stream"
    },
    {
     "data":{
      "text\/html":[
       "<div>\n",
       "<style scoped>\n",
       "    .dataframe tbody tr th:only-of-type {\n",
       "        vertical-align: middle;\n",
       "    }\n",
       "\n",
       "    .dataframe tbody tr th {\n",
       "        vertical-align: top;\n",
       "    }\n",
       "\n",
       "    .dataframe thead th {\n",
       "        text-align: right;\n",
       "    }\n",
       "<\/style>\n",
       "<table border=\"1\" class=\"dataframe\">\n",
       "  <thead>\n",
       "    <tr style=\"text-align: right;\">\n",
       "      <th><\/th>\n",
       "      <th>zone_id<\/th>\n",
       "      <th>banner_id<\/th>\n",
       "      <th>campaign_clicks<\/th>\n",
       "      <th>os_id<\/th>\n",
       "      <th>country_id<\/th>\n",
       "      <th>impressions<\/th>\n",
       "      <th>clicks<\/th>\n",
       "    <\/tr>\n",
       "  <\/thead>\n",
       "  <tbody>\n",
       "    <tr>\n",
       "      <th>count<\/th>\n",
       "      <td>1.582147e+07<\/td>\n",
       "      <td>1.582147e+07<\/td>\n",
       "      <td>1.582147e+07<\/td>\n",
       "      <td>1.582147e+07<\/td>\n",
       "      <td>1.582147e+07<\/td>\n",
       "      <td>15821472.0<\/td>\n",
       "      <td>1.582147e+07<\/td>\n",
       "    <\/tr>\n",
       "    <tr>\n",
       "      <th>mean<\/th>\n",
       "      <td>8.152679e+01<\/td>\n",
       "      <td>3.816483e+02<\/td>\n",
       "      <td>6.238540e-01<\/td>\n",
       "      <td>1.840605e+00<\/td>\n",
       "      <td>4.346986e+00<\/td>\n",
       "      <td>1.0<\/td>\n",
       "      <td>2.668835e-02<\/td>\n",
       "    <\/tr>\n",
       "    <tr>\n",
       "      <th>std<\/th>\n",
       "      <td>1.632448e+02<\/td>\n",
       "      <td>3.959386e+02<\/td>\n",
       "      <td>9.249152e+00<\/td>\n",
       "      <td>1.530005e+00<\/td>\n",
       "      <td>4.317701e+00<\/td>\n",
       "      <td>0.0<\/td>\n",
       "      <td>1.611710e-01<\/td>\n",
       "    <\/tr>\n",
       "    <tr>\n",
       "      <th>min<\/th>\n",
       "      <td>0.000000e+00<\/td>\n",
       "      <td>0.000000e+00<\/td>\n",
       "      <td>0.000000e+00<\/td>\n",
       "      <td>0.000000e+00<\/td>\n",
       "      <td>0.000000e+00<\/td>\n",
       "      <td>1.0<\/td>\n",
       "      <td>0.000000e+00<\/td>\n",
       "    <\/tr>\n",
       "    <tr>\n",
       "      <th>25%<\/th>\n",
       "      <td>1.400000e+01<\/td>\n",
       "      <td>5.200000e+01<\/td>\n",
       "      <td>0.000000e+00<\/td>\n",
       "      <td>1.000000e+00<\/td>\n",
       "      <td>0.000000e+00<\/td>\n",
       "      <td>1.0<\/td>\n",
       "      <td>0.000000e+00<\/td>\n",
       "    <\/tr>\n",
       "    <tr>\n",
       "      <th>50%<\/th>\n",
       "      <td>1.900000e+01<\/td>\n",
       "      <td>2.170000e+02<\/td>\n",
       "      <td>0.000000e+00<\/td>\n",
       "      <td>2.000000e+00<\/td>\n",
       "      <td>4.000000e+00<\/td>\n",
       "      <td>1.0<\/td>\n",
       "      <td>0.000000e+00<\/td>\n",
       "    <\/tr>\n",
       "    <tr>\n",
       "      <th>75%<\/th>\n",
       "      <td>6.000000e+01<\/td>\n",
       "      <td>6.110000e+02<\/td>\n",
       "      <td>0.000000e+00<\/td>\n",
       "      <td>3.000000e+00<\/td>\n",
       "      <td>7.000000e+00<\/td>\n",
       "      <td>1.0<\/td>\n",
       "      <td>0.000000e+00<\/td>\n",
       "    <\/tr>\n",
       "    <tr>\n",
       "      <th>max<\/th>\n",
       "      <td>3.443000e+03<\/td>\n",
       "      <td>1.632000e+03<\/td>\n",
       "      <td>8.290000e+02<\/td>\n",
       "      <td>1.000000e+01<\/td>\n",
       "      <td>1.600000e+01<\/td>\n",
       "      <td>1.0<\/td>\n",
       "      <td>1.000000e+00<\/td>\n",
       "    <\/tr>\n",
       "  <\/tbody>\n",
       "<\/table>\n",
       "<\/div>"
      ]
     },
     "metadata":{
      
     },
     "output_type":"display_data"
    },
    {
     "data":{
      "image\/png":"[encoded data removed]"
     },
     "metadata":{
      "image\/png":{
       
      }
     },
     "output_type":"display_data"
    },
    {
     "data":{
      "image\/png":"[encoded data removed]"
     },
     "metadata":{
      "image\/png":{
       
      }
     },
     "output_type":"display_data"
    },
    {
     "data":{
      "image\/png":"[encoded data removed]"
     },
     "metadata":{
      "image\/png":{
       
      }
     },
     "output_type":"display_data"
    },
    {
     "data":{
      "image\/png":"[encoded data removed]"
     },
     "metadata":{
      "image\/png":{
       
      }
     },
     "output_type":"display_data"
    },
    {
     "data":{
      "image\/png":"[encoded data removed]"
     },
     "metadata":{
      "image\/png":{
       
      }
     },
     "output_type":"display_data"
    },
    {
     "data":{
      "image\/png":"[encoded data removed]"
     },
     "metadata":{
      "image\/png":{
       
      }
     },
     "output_type":"display_data"
    },
    {
     "data":{
      "image\/png":"[encoded data removed]"
     },
     "metadata":{
      "image\/png":{
       
      }
     },
     "output_type":"display_data"
    },
    {
     "data":{
      "text\/plain":[
       "date_time\n",
       "2021-09-01 00:02:49     1\n",
       "2021-09-26 00:00:00    28\n",
       "2021-09-26 00:00:01    28\n",
       "2021-09-26 00:00:02    25\n",
       "2021-09-26 00:00:03    30\n",
       "                       ..\n",
       "2021-10-02 23:59:55    22\n",
       "2021-10-02 23:59:56    22\n",
       "2021-10-02 23:59:57    19\n",
       "2021-10-02 23:59:58    20\n",
       "2021-10-02 23:59:59    19\n",
       "Length: 604712, dtype: int64"
      ]
     },
     "metadata":{
      
     },
     "output_type":"display_data"
    }
   ],
   "metadata":{
    "datalore":{
     "node_id":"O5P9UJqcvcvUTsATMpmQar",
     "type":"CODE",
     "hide_input_from_viewers":true,
     "hide_output_from_viewers":true
    }
   }
  },
  {
   "cell_type":"markdown",
   "source":[
    "### 3. Фильтрация и конструирование фичей"
   ],
   "attachments":{
    
   },
   "metadata":{
    "datalore":{
     "node_id":"txgxnsy6gsF1wL3rRf2MH5",
     "type":"MD",
     "hide_input_from_viewers":true,
     "hide_output_from_viewers":true
    }
   }
  },
  {
   "cell_type":"markdown",
   "source":[
    "Удалим повторяющиеся строки таблицы, если такие имеются"
   ],
   "attachments":{
    
   },
   "metadata":{
    "datalore":{
     "node_id":"gOhwxF2w0exdSMuTGDcPnk",
     "type":"MD",
     "hide_input_from_viewers":true,
     "hide_output_from_viewers":true
    }
   }
  },
  {
   "cell_type":"code",
   "source":[
    "data = data.drop_duplicates()"
   ],
   "execution_count":6,
   "outputs":[
    
   ],
   "metadata":{
    "datalore":{
     "node_id":"WOvjlcIyn4K4QH79CBR7dD",
     "type":"CODE",
     "hide_input_from_viewers":true,
     "hide_output_from_viewers":true
    }
   }
  },
  {
   "cell_type":"markdown",
   "source":[
    "Анализируя статистики, можем увидим, что значение поля impressions всегда одно и равно единице. Значит, все баннеры-сэмплы, данные о которых у нас имеются, в каждой конфигурации были показаны по одному разу. Так как фича является константой, она не играет роли при выборе класса объекта в нашей задаче классификации. Можем обойтись без этой колонки"
   ],
   "attachments":{
    
   },
   "metadata":{
    "datalore":{
     "node_id":"aFOFZ44uQjmR0s51whHncb",
     "type":"MD",
     "hide_input_from_viewers":true,
     "hide_output_from_viewers":true
    }
   }
  },
  {
   "cell_type":"code",
   "source":[
    "data['impressions'].unique()"
   ],
   "execution_count":7,
   "outputs":[
    {
     "data":{
      "text\/html":[
       "<pre>array([1])<\/pre>"
      ]
     },
     "metadata":{
      
     },
     "output_type":"display_data"
    }
   ],
   "metadata":{
    "datalore":{
     "node_id":"d0NEXVYV0fM4gsz10IiIqO",
     "type":"CODE",
     "hide_input_from_viewers":true,
     "hide_output_from_viewers":true
    }
   }
  },
  {
   "cell_type":"code",
   "source":[
    "data = data.drop(columns=['impressions'])\n",
    "data.head()"
   ],
   "execution_count":8,
   "outputs":[
    {
     "data":{
      "text\/html":[
       "<div>\n",
       "<style scoped>\n",
       "    .dataframe tbody tr th:only-of-type {\n",
       "        vertical-align: middle;\n",
       "    }\n",
       "\n",
       "    .dataframe tbody tr th {\n",
       "        vertical-align: top;\n",
       "    }\n",
       "\n",
       "    .dataframe thead th {\n",
       "        text-align: right;\n",
       "    }\n",
       "<\/style>\n",
       "<table border=\"1\" class=\"dataframe\">\n",
       "  <thead>\n",
       "    <tr style=\"text-align: right;\">\n",
       "      <th><\/th>\n",
       "      <th>date_time<\/th>\n",
       "      <th>zone_id<\/th>\n",
       "      <th>banner_id<\/th>\n",
       "      <th>campaign_clicks<\/th>\n",
       "      <th>os_id<\/th>\n",
       "      <th>country_id<\/th>\n",
       "      <th>clicks<\/th>\n",
       "    <\/tr>\n",
       "  <\/thead>\n",
       "  <tbody>\n",
       "    <tr>\n",
       "      <th>0<\/th>\n",
       "      <td>2021-09-27 00:01:30<\/td>\n",
       "      <td>0<\/td>\n",
       "      <td>0<\/td>\n",
       "      <td>0<\/td>\n",
       "      <td>0<\/td>\n",
       "      <td>0<\/td>\n",
       "      <td>1<\/td>\n",
       "    <\/tr>\n",
       "    <tr>\n",
       "      <th>1<\/th>\n",
       "      <td>2021-09-26 22:54:49<\/td>\n",
       "      <td>1<\/td>\n",
       "      <td>1<\/td>\n",
       "      <td>0<\/td>\n",
       "      <td>0<\/td>\n",
       "      <td>1<\/td>\n",
       "      <td>1<\/td>\n",
       "    <\/tr>\n",
       "    <tr>\n",
       "      <th>2<\/th>\n",
       "      <td>2021-09-26 23:57:20<\/td>\n",
       "      <td>2<\/td>\n",
       "      <td>2<\/td>\n",
       "      <td>3<\/td>\n",
       "      <td>0<\/td>\n",
       "      <td>0<\/td>\n",
       "      <td>1<\/td>\n",
       "    <\/tr>\n",
       "    <tr>\n",
       "      <th>3<\/th>\n",
       "      <td>2021-09-27 00:04:30<\/td>\n",
       "      <td>3<\/td>\n",
       "      <td>3<\/td>\n",
       "      <td>0<\/td>\n",
       "      <td>1<\/td>\n",
       "      <td>1<\/td>\n",
       "      <td>1<\/td>\n",
       "    <\/tr>\n",
       "    <tr>\n",
       "      <th>4<\/th>\n",
       "      <td>2021-09-27 00:06:21<\/td>\n",
       "      <td>4<\/td>\n",
       "      <td>4<\/td>\n",
       "      <td>0<\/td>\n",
       "      <td>1<\/td>\n",
       "      <td>0<\/td>\n",
       "      <td>1<\/td>\n",
       "    <\/tr>\n",
       "  <\/tbody>\n",
       "<\/table>\n",
       "<\/div>"
      ]
     },
     "metadata":{
      
     },
     "output_type":"display_data"
    }
   ],
   "metadata":{
    "datalore":{
     "node_id":"NOC6Xe8DhvurFEaTNWSKy8",
     "type":"CODE",
     "hide_input_from_viewers":true,
     "hide_output_from_viewers":true
    }
   }
  },
  {
   "cell_type":"markdown",
   "source":[
    "Заметим, что все имеющиеся данные затрагивают только 2 месяца -- сентябрь и начало октября. Информация про год избыточна, тк у всех сэмплов одинакова. Кроме того, можем убрать измерения секунд, нам хватит знания часа и минут для каждого примера. Добавим отдельные столбцы day, hour, minute. После разделения на train и test впоследствии удалим столбец date_time. Добавим информацию про день недели как новую полезную для анализа рекламных событий фичу."
   ],
   "attachments":{
    
   },
   "metadata":{
    "datalore":{
     "node_id":"2Eq7DP6DNau78i1lkgwoiP",
     "type":"MD",
     "hide_input_from_viewers":true,
     "hide_output_from_viewers":true
    }
   }
  },
  {
   "cell_type":"code",
   "source":[
    "data['day'] = data['date_time'].dt.day\n",
    "data['hour'] = data['date_time'].dt.hour\n",
    "data['minutes'] = data['date_time'].dt.minute\n",
    "data['weekday'] = data['date_time'].dt.day_name()\n",
    "\n",
    "data.head()"
   ],
   "execution_count":9,
   "outputs":[
    {
     "data":{
      "text\/html":[
       "<div>\n",
       "<style scoped>\n",
       "    .dataframe tbody tr th:only-of-type {\n",
       "        vertical-align: middle;\n",
       "    }\n",
       "\n",
       "    .dataframe tbody tr th {\n",
       "        vertical-align: top;\n",
       "    }\n",
       "\n",
       "    .dataframe thead th {\n",
       "        text-align: right;\n",
       "    }\n",
       "<\/style>\n",
       "<table border=\"1\" class=\"dataframe\">\n",
       "  <thead>\n",
       "    <tr style=\"text-align: right;\">\n",
       "      <th><\/th>\n",
       "      <th>date_time<\/th>\n",
       "      <th>zone_id<\/th>\n",
       "      <th>banner_id<\/th>\n",
       "      <th>campaign_clicks<\/th>\n",
       "      <th>os_id<\/th>\n",
       "      <th>country_id<\/th>\n",
       "      <th>clicks<\/th>\n",
       "      <th>day<\/th>\n",
       "      <th>hour<\/th>\n",
       "      <th>minutes<\/th>\n",
       "      <th>weekday<\/th>\n",
       "    <\/tr>\n",
       "  <\/thead>\n",
       "  <tbody>\n",
       "    <tr>\n",
       "      <th>0<\/th>\n",
       "      <td>2021-09-27 00:01:30<\/td>\n",
       "      <td>0<\/td>\n",
       "      <td>0<\/td>\n",
       "      <td>0<\/td>\n",
       "      <td>0<\/td>\n",
       "      <td>0<\/td>\n",
       "      <td>1<\/td>\n",
       "      <td>27<\/td>\n",
       "      <td>0<\/td>\n",
       "      <td>1<\/td>\n",
       "      <td>Monday<\/td>\n",
       "    <\/tr>\n",
       "    <tr>\n",
       "      <th>1<\/th>\n",
       "      <td>2021-09-26 22:54:49<\/td>\n",
       "      <td>1<\/td>\n",
       "      <td>1<\/td>\n",
       "      <td>0<\/td>\n",
       "      <td>0<\/td>\n",
       "      <td>1<\/td>\n",
       "      <td>1<\/td>\n",
       "      <td>26<\/td>\n",
       "      <td>22<\/td>\n",
       "      <td>54<\/td>\n",
       "      <td>Sunday<\/td>\n",
       "    <\/tr>\n",
       "    <tr>\n",
       "      <th>2<\/th>\n",
       "      <td>2021-09-26 23:57:20<\/td>\n",
       "      <td>2<\/td>\n",
       "      <td>2<\/td>\n",
       "      <td>3<\/td>\n",
       "      <td>0<\/td>\n",
       "      <td>0<\/td>\n",
       "      <td>1<\/td>\n",
       "      <td>26<\/td>\n",
       "      <td>23<\/td>\n",
       "      <td>57<\/td>\n",
       "      <td>Sunday<\/td>\n",
       "    <\/tr>\n",
       "    <tr>\n",
       "      <th>3<\/th>\n",
       "      <td>2021-09-27 00:04:30<\/td>\n",
       "      <td>3<\/td>\n",
       "      <td>3<\/td>\n",
       "      <td>0<\/td>\n",
       "      <td>1<\/td>\n",
       "      <td>1<\/td>\n",
       "      <td>1<\/td>\n",
       "      <td>27<\/td>\n",
       "      <td>0<\/td>\n",
       "      <td>4<\/td>\n",
       "      <td>Monday<\/td>\n",
       "    <\/tr>\n",
       "    <tr>\n",
       "      <th>4<\/th>\n",
       "      <td>2021-09-27 00:06:21<\/td>\n",
       "      <td>4<\/td>\n",
       "      <td>4<\/td>\n",
       "      <td>0<\/td>\n",
       "      <td>1<\/td>\n",
       "      <td>0<\/td>\n",
       "      <td>1<\/td>\n",
       "      <td>27<\/td>\n",
       "      <td>0<\/td>\n",
       "      <td>6<\/td>\n",
       "      <td>Monday<\/td>\n",
       "    <\/tr>\n",
       "  <\/tbody>\n",
       "<\/table>\n",
       "<\/div>"
      ]
     },
     "metadata":{
      
     },
     "output_type":"display_data"
    }
   ],
   "metadata":{
    "datalore":{
     "node_id":"5CoZvRwN7xrniPupXkryTc",
     "type":"CODE",
     "hide_input_from_viewers":false,
     "hide_output_from_viewers":false,
     "report_properties":{
      "rowId":"n6QfIZLr6Doo5ydjbuDWfV"
     }
    }
   }
  },
  {
   "cell_type":"markdown",
   "source":[
    "### 4. Train\/ test splitting\n",
    "Разделим данные на тренировочную и тестовую части. Тренировать модель будем на всех данных, полученных до последнего дня, тестировать -- на данных последнего дня, тк хотим научиться предсказывать на день вперед. "
   ],
   "attachments":{
    
   },
   "metadata":{
    "datalore":{
     "node_id":"CHdDgigkZ6DPsy61RX5dgK",
     "type":"MD",
     "hide_input_from_viewers":true,
     "hide_output_from_viewers":true
    }
   }
  },
  {
   "cell_type":"code",
   "source":[
    "# разделяющий день -- последний день, начиная с 00:00\n",
    "splitting_datetime = data['date_time'].max()\n",
    "splitting_datetime = splitting_datetime.replace(hour=0, minute=0, second=0, microsecond=0)\n",
    "print(f'Splitting datetime: {splitting_datetime}')\n",
    "\n",
    "train_data = data[data['date_time'] < splitting_datetime]\n",
    "test_data = data[data['date_time'] >= splitting_datetime]\n",
    "\n",
    "data = data.drop(columns=['date_time'])\n",
    "\n",
    "print(f'Train samples: {len(train_data)}')\n",
    "print(f'Test samples: {len(test_data)}')"
   ],
   "execution_count":10,
   "outputs":[
    {
     "name":"stdout",
     "text":[
      "Splitting datetime: 2021-10-02 00:00:00\n",
      "Train samples: 13147256\n",
      "Test samples: 2054177\n"
     ],
     "output_type":"stream"
    }
   ],
   "metadata":{
    "datalore":{
     "node_id":"Ozu5Minvo8wYJ8oQ62btD5",
     "type":"CODE",
     "hide_input_from_viewers":true,
     "hide_output_from_viewers":true
    }
   }
  },
  {
   "cell_type":"markdown",
   "source":[
    "### 5. Кодирование категориальных признаков\n",
    "Чтобы перевести категориальные фичи в числовые значения, воспользуемся One-hot encoding'ом, сопоставив каждой категории вектор из 0 с 1 на одной из позиций. Категориальными у нас являются все фичи, кроме одной -- campaign_clicks (числовая). К числовой фиче для нормализации и стандартизации применим StandartScaler."
   ],
   "attachments":{
    
   },
   "metadata":{
    "datalore":{
     "node_id":"4iLeWOhoIAAo8PcDSFVEj1",
     "type":"MD",
     "hide_input_from_viewers":true,
     "hide_output_from_viewers":true
    }
   }
  },
  {
   "cell_type":"code",
   "source":[
    "numerical_columns = ['campaign_clicks']\n",
    "\n",
    "categorial_columns = list(data.columns.values)\n",
    "categorial_columns.remove('campaign_clicks')\n",
    "\n",
    "print('Categorial columns:')\n",
    "print(categorial_columns)"
   ],
   "execution_count":11,
   "outputs":[
    {
     "name":"stdout",
     "text":[
      "Categorial columns:\n",
      "['zone_id', 'banner_id', 'os_id', 'country_id', 'clicks', 'day', 'hour', 'minutes', 'weekday']\n"
     ],
     "output_type":"stream"
    }
   ],
   "metadata":{
    "datalore":{
     "node_id":"GpthO8x2FhLbkhZGCJCqGJ",
     "type":"CODE",
     "hide_input_from_viewers":true,
     "hide_output_from_viewers":true
    }
   }
  },
  {
   "cell_type":"code",
   "source":[
    "from sklearn.preprocessing import OneHotEncoder, StandardScaler\n",
    "\n",
    "# обработка категориальных фичей\n",
    "oh_encoder = OneHotEncoder(handle_unknown='ignore', sparse_output=True)\n",
    "\n",
    "train_data_cat = oh_encoder.fit_transform(train_data[categorial_columns])\n",
    "test_data_cat = oh_encoder.transform(test_data[categorial_columns])\n",
    "\n",
    "# обработка численных фичей\n",
    "stand_scaler = StandardScaler()\n",
    "train_data_num = stand_scaler.fit_transform(train_data[numerical_columns])\n",
    "test_data_num = stand_scaler.transform(test_data[numerical_columns])"
   ],
   "execution_count":12,
   "outputs":[
    
   ],
   "metadata":{
    "datalore":{
     "node_id":"DPtNqy2uyjxjnXVg8lLJqW",
     "type":"CODE",
     "hide_input_from_viewers":true,
     "hide_output_from_viewers":true
    }
   }
  },
  {
   "cell_type":"markdown",
   "source":[
    "### 6. Train\/ validate\/ test X и y"
   ],
   "attachments":{
    
   },
   "metadata":{
    "datalore":{
     "node_id":"1E53ZvV40At8UYnHtBt6bo",
     "type":"MD",
     "hide_input_from_viewers":true,
     "hide_output_from_viewers":true
    }
   }
  },
  {
   "cell_type":"markdown",
   "source":[
    "Наконец, разделим train и test данные на признаки X и таргет y, а также выделим часть данных из train для валидации."
   ],
   "attachments":{
    
   },
   "metadata":{
    "datalore":{
     "node_id":"ghgDr0DrxapfKzyCERxRga",
     "type":"MD",
     "hide_input_from_viewers":true,
     "hide_output_from_viewers":true
    }
   }
  },
  {
   "cell_type":"code",
   "source":[
    "from sklearn.model_selection import train_test_split\n",
    "\n",
    "def split_to_X_y(data: pd.DataFrame):\n",
    "    X = data.drop(columns=['clicks'])\n",
    "    y = data['clicks']\n",
    "    return X, y\n",
    "\n",
    "\n",
    "X_train, y_train = split_to_X_y(train_data)\n",
    "# X_train, X_val, y_train, y_val = train_test_split(X_train, y_train, test_size=0.15)\n",
    "X_test, y_test = split_to_X_y(test_data)"
   ],
   "execution_count":13,
   "outputs":[
    
   ],
   "metadata":{
    "datalore":{
     "node_id":"Fyk3Pq1emVYGBQkRgHTSyF",
     "type":"CODE",
     "hide_input_from_viewers":true,
     "hide_output_from_viewers":true
    }
   }
  },
  {
   "cell_type":"markdown",
   "source":[
    "### 7. Построение и обучение модели\n",
    "В качестве модели выберем логистическую регрессию с 'liblinear' solver'ом"
   ],
   "attachments":{
    
   },
   "metadata":{
    "datalore":{
     "node_id":"87MGqFFyV58NwVXewPHUJ0",
     "type":"MD",
     "hide_input_from_viewers":true,
     "hide_output_from_viewers":true
    }
   }
  },
  {
   "cell_type":"code",
   "source":[
    "from sklearn.linear_model import LogisticRegression"
   ],
   "execution_count":18,
   "outputs":[
    
   ],
   "metadata":{
    "datalore":{
     "node_id":"RihK7ReEpuiJ9eNxHwqv54",
     "type":"CODE",
     "hide_input_from_viewers":true,
     "hide_output_from_viewers":true
    }
   }
  },
  {
   "cell_type":"code",
   "source":[
    "def create_model(C=0.01):\n",
    "    return LogisticRegression(max_iter=1000, solver='liblinear', C=C, verbose=2)\n",
    "\n",
    "model = create_model()"
   ],
   "execution_count":14,
   "outputs":[
    
   ],
   "metadata":{
    "datalore":{
     "node_id":"SXq2lKptc1zJw7LB4idVJG",
     "type":"CODE",
     "hide_input_from_viewers":false,
     "hide_output_from_viewers":false,
     "report_properties":{
      "rowId":"FgYGkCERXkUVZo8tSjyCXK"
     }
    }
   }
  },
  {
   "cell_type":"markdown",
   "source":[
    "Подберем оптимальный гиперпараметр C с помощью кросс-валидации:"
   ],
   "attachments":{
    
   },
   "metadata":{
    "datalore":{
     "node_id":"JxkNb65U5AwqaMZaRPazFt",
     "type":"MD",
     "hide_input_from_viewers":true,
     "hide_output_from_viewers":true
    }
   }
  },
  {
   "cell_type":"code",
   "source":[
    "def cv():\n",
    "    C_list = [1, 0.1, 0.01, 0.001]"
   ],
   "execution_count":null,
   "outputs":[
    
   ],
   "metadata":{
    "datalore":{
     "node_id":"sRBGkj9E3J2WJU0l6weFOj",
     "type":"CODE",
     "hide_input_from_viewers":true,
     "hide_output_from_viewers":true
    }
   }
  },
  {
   "cell_type":"markdown",
   "source":[
    "Обучим модель"
   ],
   "attachments":{
    
   },
   "metadata":{
    "datalore":{
     "node_id":"214qP8fvKnz7BX9OSQgQjP",
     "type":"MD",
     "hide_input_from_viewers":true,
     "hide_output_from_viewers":true
    }
   }
  },
  {
   "cell_type":"code",
   "source":[
    "model.fit(X_train, y_train)"
   ],
   "execution_count":null,
   "outputs":[
    
   ],
   "metadata":{
    "datalore":{
     "node_id":"8WpEe3hcQjWzUCwz3cu2X8",
     "type":"CODE",
     "hide_input_from_viewers":true,
     "hide_output_from_viewers":true
    }
   }
  },
  {
   "cell_type":"markdown",
   "source":[
    "### 8. Оценка качество обученной модели"
   ],
   "attachments":{
    
   },
   "metadata":{
    "datalore":{
     "node_id":"E0DUragVRq0qMzMVtYxBLe",
     "type":"MD",
     "hide_input_from_viewers":true,
     "hide_output_from_viewers":true
    }
   }
  },
  {
   "cell_type":"code",
   "source":[
    "from sklearn.metrics import roc_auc_score, log_loss\n",
    "\n",
    "def calc_print_metrics(y_true, y_preds):\n",
    "    print(f'Roc-auc baseline: {roc_auc_score(y_true, y_preds)}')\n",
    "    print(f'Log-loss baseline: {log_loss(y_true, y_preds)}')"
   ],
   "execution_count":19,
   "outputs":[
    
   ],
   "metadata":{
    "datalore":{
     "node_id":"UnqPIWLQaxuZczFCF9nRpt",
     "type":"CODE",
     "hide_input_from_viewers":true,
     "hide_output_from_viewers":true
    }
   }
  },
  {
   "cell_type":"code",
   "source":[
    "model_preds = model.predict_proba(X_test)[:, 1]\n",
    "calc_print_metrics(y_test, model_preds)"
   ],
   "execution_count":null,
   "outputs":[
    
   ],
   "metadata":{
    "datalore":{
     "node_id":"5lk7FNJi0h5p7wqerNIKht",
     "type":"CODE",
     "hide_input_from_viewers":true,
     "hide_output_from_viewers":true
    }
   }
  },
  {
   "cell_type":"markdown",
   "source":[
    "### 9. Сравнение с бейзлайном\n",
    "В качестве бейзлайна возьмем модель, всегда выдающую среднее значение таргета на train'е. Посчитаем log-loss и roc-auc и сравним полученными значениями метрик у нашей модели логистической регресии."
   ],
   "attachments":{
    
   },
   "metadata":{
    "datalore":{
     "node_id":"sRBFV6fOuIBxSrDO08NizR",
     "type":"MD",
     "hide_input_from_viewers":true,
     "hide_output_from_viewers":true
    }
   }
  },
  {
   "cell_type":"code",
   "source":[
    "baseline_mean_prediction = y_train.mean()\n",
    "baseline_preds = [baseline_mean_prediction] * len(y_test)\n",
    "\n",
    "calc_print_metrics(y_test, baseline_preds)"
   ],
   "execution_count":20,
   "outputs":[
    {
     "name":"stdout",
     "text":[
      "Roc-auc baseline: 0.5\n",
      "Log-loss baseline: 0.1571386178512465\n"
     ],
     "output_type":"stream"
    }
   ],
   "metadata":{
    "datalore":{
     "node_id":"Di7oEq5syKJ82GgTurRBH6",
     "type":"CODE",
     "hide_input_from_viewers":true,
     "hide_output_from_viewers":true
    }
   }
  },
  {
   "cell_type":"markdown",
   "source":[
    "Roc auc бейзлайн модели ниже нашей логистической модели, а log loss выше. Значит, у нас получилось обучить модель, побивающую бейзлайн."
   ],
   "attachments":{
    
   },
   "metadata":{
    "datalore":{
     "node_id":"Him1vvQlg5id8P0UtsSRpy",
     "type":"MD",
     "hide_input_from_viewers":true,
     "hide_output_from_viewers":true
    }
   }
  }
 ],
 "metadata":{
  "kernelspec":{
   "display_name":"Python",
   "language":"python",
   "name":"python"
  },
  "datalore":{
   "computation_mode":"JUPYTER",
   "package_manager":"pip",
   "base_environment":"default",
   "packages":[
    
   ],
   "report_row_ids":[
    "jo05gh4zR2TECitCjLb9e8",
    "aFHQUuvYnMWETftpcBJu3J",
    "7rpSGy9Uer3p8OXOFaWBhm",
    "n6QfIZLr6Doo5ydjbuDWfV",
    "FgYGkCERXkUVZo8tSjyCXK",
    "HWxG7tDQtuRg9ihyuN8SJI"
   ],
   "version":3
  }
 },
 "nbformat":4,
 "nbformat_minor":4
}