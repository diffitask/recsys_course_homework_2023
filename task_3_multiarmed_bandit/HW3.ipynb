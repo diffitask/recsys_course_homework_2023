{
 "cells": [
  {
   "cell_type": "markdown",
   "metadata": {
    "collapsed": false
   },
   "source": [
    "## Подключение библиотек"
   ]
  },
  {
   "cell_type": "code",
   "execution_count": null,
   "metadata": {
    "ExecuteTime": {
     "end_time": "2023-12-07T13:57:54.750310Z",
     "start_time": "2023-12-07T13:57:54.115309Z"
    }
   },
   "outputs": [],
   "source": [
    "import numpy as np\n",
    "import pandas as pd\n",
    "import time\n",
    "from functools import partial\n",
    "\n",
    "from scipy.stats import randint, uniform\n",
    "from sim_lib import simulation\n",
    "\n",
    "pd.options.mode.chained_assignment = None"
   ]
  },
  {
   "cell_type": "markdown",
   "metadata": {
    "collapsed": false
   },
   "source": [
    "## E-Greedy baseline"
   ]
  },
  {
   "cell_type": "code",
   "execution_count": null,
   "metadata": {
    "ExecuteTime": {
     "end_time": "2023-12-07T13:58:00.387253Z",
     "start_time": "2023-12-07T13:58:00.382420Z"
    }
   },
   "outputs": [],
   "source": [
    "def eps_greedy(history: pd.DataFrame, eps: float):\n",
    "    if uniform.rvs() < eps:\n",
    "        n = history.shape[0]\n",
    "        # choose random banner\n",
    "        return history.index[randint.rvs(0, n)]\n",
    "\n",
    "    # the number of clicks that your ad receives divided by the number of times your ad is shown\n",
    "    ctr = history['clicks'] / (history['impressions'] + 1)\n",
    "    n = np.argmax(ctr)\n",
    "    return history.index[n]\n",
    "\n",
    "\n",
    "policy = partial(eps_greedy, eps=0.06)"
   ]
  },
  {
   "cell_type": "markdown",
   "metadata": {
    "collapsed": false
   },
   "source": [
    "## Тестирование бейзлайна"
   ]
  },
  {
   "cell_type": "code",
   "execution_count": null,
   "metadata": {
    "ExecuteTime": {
     "end_time": "2023-12-07T14:00:24.791980Z",
     "start_time": "2023-12-07T13:58:04.795505Z"
    }
   },
   "outputs": [],
   "source": [
    "# seed for homework\n",
    "seed = 18475\n",
    "np.random.seed(seed=seed)\n",
    "\n",
    "start = time.time()\n",
    "output = simulation(policy, n=200000, seed=seed)\n",
    "end = time.time()\n",
    "end - start"
   ]
  },
  {
   "cell_type": "code",
   "execution_count": null,
   "metadata": {
    "ExecuteTime": {
     "end_time": "2023-12-07T14:01:12.130072Z",
     "start_time": "2023-12-07T14:01:12.127028Z"
    }
   },
   "outputs": [],
   "source": [
    "# baseline regret\n",
    "output['regret'], output['regret'] / output['rounds'], output['total_banners']"
   ]
  },
  {
   "cell_type": "code",
   "execution_count": null,
   "metadata": {
    "ExecuteTime": {
     "end_time": "2023-12-07T14:01:15.022643Z",
     "start_time": "2023-12-07T14:01:15.014565Z"
    }
   },
   "outputs": [],
   "source": [
    "output['history']"
   ]
  },
  {
   "cell_type": "markdown",
   "metadata": {
    "collapsed": false
   },
   "source": [
    "## UCB policy\n",
    "Реализуем UCB бандита"
   ]
  },
  {
   "cell_type": "code",
   "execution_count": null,
   "metadata": {
    "ExecuteTime": {
     "end_time": "2023-12-07T14:01:17.645686Z",
     "start_time": "2023-12-07T14:01:17.638374Z"
    },
    "collapsed": false
   },
   "outputs": [],
   "source": [
    "def ucb(history: pd.DataFrame, exploration_coef: float):\n",
    "    # добавляем +1, чтобы впоследствии не возникло деления на 0\n",
    "    impressions = history['impressions'] + 1\n",
    "    # кол-во кликов на рекламный банер делить на суммарное число показов банера \n",
    "    ctr_exploitation = history['clicks'] / impressions\n",
    "\n",
    "    # exploration часть\n",
    "    total_impressions = np.sum(impressions)\n",
    "    exploration = np.sqrt(2 * np.log(total_impressions) / impressions)\n",
    "\n",
    "    # домножаем exploration часть на коэффициент, чтобы достичь баланса между exploitation и exploration \n",
    "    # (т.е между уже известной и еще неисследованной частью)\n",
    "    u = ctr_exploitation + exploration_coef * exploration\n",
    "\n",
    "    # выбираем argmax u по всем баннерам\n",
    "    best_banner_id = np.argmax(u)\n",
    "    return history.index[best_banner_id]"
   ]
  },
  {
   "cell_type": "markdown",
   "metadata": {
    "collapsed": false
   },
   "source": [
    "## Подбор гиперпараметра: коэффициент при exploration части"
   ]
  },
  {
   "cell_type": "code",
   "execution_count": null,
   "metadata": {
    "ExecuteTime": {
     "end_time": "2023-12-07T14:01:19.539787Z",
     "start_time": "2023-12-07T14:01:19.537675Z"
    },
    "collapsed": false
   },
   "outputs": [],
   "source": [
    "seed = 18475\n",
    "\n",
    "def test_ucb_policy(exploration_coef: float, process_printing=False):\n",
    "    np.random.seed(seed=seed)\n",
    "    ucb_policy = partial(ucb, exploration_coef=exploration_coef)\n",
    "    output = simulation(ucb_policy, n=200000, seed=seed, process_printing=process_printing)\n",
    "    print(f\"coef: {exploration_coef}, regret: {output['regret']:.4f}, \"\n",
    "          f\"average regret: {(output['regret'] / output['rounds']):.4f}, banners: {output['total_banners']}\")"
   ]
  },
  {
   "cell_type": "markdown",
   "metadata": {
    "collapsed": false
   },
   "source": [
    "Коэффициент при exploration слагаемом не должен быть большим, тк все же в основном нам важно учесть уже полученные данные exploitation части, и мы хотим добавить небольшое рассмотрение еще недостаточно изученных баннеров из exploration."
   ]
  },
  {
   "cell_type": "code",
   "execution_count": null,
   "metadata": {
    "ExecuteTime": {
     "end_time": "2023-12-07T14:35:27.801691Z",
     "start_time": "2023-12-07T14:01:22.395906Z"
    },
    "collapsed": false
   },
   "outputs": [],
   "source": [
    "exploration_coefs = [0, 0.02, 0.04, 0.06, 0.08, 0.1, 0.15, 0.2, 0.3, 0.5, 0.9, 1]\n",
    "\n",
    "for coef in exploration_coefs:\n",
    "    test_ucb_policy(coef)"
   ]
  },
  {
   "cell_type": "markdown",
   "metadata": {
    "collapsed": false
   },
   "source": [
    "Видим, что наименьшее значение регрета достигается при coef = 0.08. Для более хорошего результата можем проверить значения коэффициента в окрестностях этой точки:"
   ]
  },
  {
   "cell_type": "code",
   "execution_count": null,
   "metadata": {
    "ExecuteTime": {
     "end_time": "2023-12-07T14:52:32.617272Z",
     "start_time": "2023-12-07T14:35:27.801197Z"
    },
    "collapsed": false
   },
   "outputs": [],
   "source": [
    "exploration_coefs = [0.065, 0.07, 0.075, 0.08, 0.085, 0.09]\n",
    "\n",
    "for coef in exploration_coefs:\n",
    "    test_ucb_policy(coef)"
   ]
  },
  {
   "cell_type": "markdown",
   "metadata": {
    "collapsed": false
   },
   "source": [
    "Финальное тестирование лучшего коэффициента coef = 0.07."
   ]
  },
  {
   "cell_type": "code",
   "execution_count": null,
   "metadata": {
    "ExecuteTime": {
     "end_time": "2023-12-07T14:59:36.444781Z",
     "start_time": "2023-12-07T14:56:52.598640Z"
    },
    "collapsed": false
   },
   "outputs": [],
   "source": [
    "best_exploration_coef = 0.07\n",
    "test_ucb_policy(best_exploration_coef, process_printing=True)"
   ]
  },
  {
   "cell_type": "markdown",
   "metadata": {
    "collapsed": false
   },
   "source": [
    "Регрет значительно меньше, чем у бейзлайна, баланс между exploitation и exploration подобран. Успех"
   ]
  }
 ],
 "metadata": {
  "kernelspec": {
   "display_name": "Python 3",
   "language": "python",
   "name": "python3"
  },
  "language_info": {
   "codemirror_mode": {
    "name": "ipython",
    "version": 3
   },
   "file_extension": ".py",
   "mimetype": "text/x-python",
   "name": "python",
   "nbconvert_exporter": "python",
   "pygments_lexer": "ipython3"
  }
 },
 "nbformat": 4,
 "nbformat_minor": 4
}
